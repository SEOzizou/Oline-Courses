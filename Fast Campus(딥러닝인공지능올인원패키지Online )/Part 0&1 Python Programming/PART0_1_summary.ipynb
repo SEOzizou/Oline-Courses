{
 "cells": [
  {
   "cell_type": "markdown",
   "metadata": {},
   "source": [
    "## 패스트 캠퍼스 part 0~1 summary\n",
    "이 파일은 part0 ~ part1을 진행하며 몰랐던 부분, 새로 알게된 유용한 부분만을 따로 정리해둔 내용입니다."
   ]
  },
  {
   "cell_type": "markdown",
   "metadata": {},
   "source": [
    "#### **variable length argument (가변길이 인자)**\n",
    " - 전달되는 파라미터의 개수가 고정적이지 않은 경우 사용\n",
    " - e.g)\n",
    "   - print 함수\n",
    "   - format 함수\n",
    "  \n",
    "> ***args**,  ****kwargs**\n",
    "\n",
    "> ***args**    : 파라미터를 튜플의 형태로 전달\n",
    "\n",
    "\n",
    "> ****kwargs** : 파리미터를 딕셔너리 형태로 전달(네임드 파라미터)\n",
    "\n",
    "```python\n",
    "def test(*args):\n",
    "    for value in args: # 인자가 튜플\n",
    "        print('values: {value}')\n",
    "test(1,2,3,4,...)\n",
    "\n",
    "def test2(**kargs):\n",
    "    for key, value in kargs: # 인자가 딕셔너리\n",
    "        print(f'key: {key}, values: {value}')\n",
    "test2(a=1,b=2,c=3)\n",
    "```\n",
    "-----\n",
    "-----"
   ]
  },
  {
   "cell_type": "markdown",
   "metadata": {},
   "source": [
    "#### **filter, map, reduce**\n",
    " + lambda가 유용하게 사용되는 3가지 대표적 함수\n",
    " + 함수형 프로그래밍의 기본 요소이기도 함\n",
    " + filter : 특정 조건을 만족하는 요소만 남기고 필터링\n",
    " + map    : 각 원소를 주어진 수식에 따라 변형하여 새로운 리스트를 반환\n",
    " + reduce : 차례대로 앞 2개의 원소를 가지고 연산. 연산의 결과가 또 다음 연산의 입력으로 진행됨. 따라서 마지막까지 진행되면 최종 출력은 한개의 값만 남게 됨\n",
    " \n",
    "```python\n",
    "# filter\n",
    "nums = [1,2,3,6,8,9]\n",
    "list(filter(lambda x: x%2 == 0, df['a']))\n",
    "> [2, 4]\n",
    "\n",
    "# map\n",
    "nums = [1,2,3,6,8,9,10,11,13,15]\n",
    "list(map(lambda x: x**2, nums))\n",
    "> [1, 4, 9, 36, 64, 81, 100, 121, 169, 225]\n",
    "\n",
    "# redyce\n",
    "import functools\n",
    "a = list(range(1,11))\n",
    "functools.reduce(lambda x, y: x+y, a)/len(a)\n",
    "\n",
    "1 2\n",
    "None 3\n",
    "None 4\n",
    "...\n",
    "None 9\n",
    "None 10\n",
    "\n",
    "\n",
    "def num1_f(a):\n",
    "    return(functools.reduce(lambda x, y: x+y, a)/len(a))\n",
    "\n",
    "def num2_f(a):\n",
    "    return sum(list((map(lambda x: a%x == 0,list(range(2, a+1))))))==1\n",
    "\n",
    "def num3_f(a):\n",
    "    return sum(list(map(num2_f, list(range(2,a+1)))))\n",
    "    # return list(range(2,a+1))[list(map(num2_f, list(range(2,a+1))))\n",
    "```\n",
    "\n",
    "#### 함수 연습문제\n",
    " 1. 주어진 숫자 리스트의 평균을 구하는 함수를 출력하시오\n",
    " 1. 해당 숫자가 소수인지 아닌지 판별하시오.\n",
    " 2. 2부터 해당 숫자사이에 소수가 몇개인지 출력하는 함수를 구하시오 \n",
    " ---------\n",
    " ---------"
   ]
  },
  {
   "cell_type": "markdown",
   "metadata": {},
   "source": [
    "#### **class란?**\n",
    " + 실세계의 것을 모델링하여 속성(attribute)와 동작(method)를 갖는 데이터 타입\n",
    " + python에서의 string, int, list, dict.. 모두가 다 클래스로 존재\n",
    "\n",
    "#### **object 란?**\n",
    " - 클래스로 생성되어 구체화된 객체(인스턴스)\n",
    " - 파이썬의 모든 것(int, str, list..etc)은 객체(인스턴스)\n",
    " - 실제로 class가 인스턴스화 되어 메모리에 상주하는 상태를 의미\n",
    " - class가 빵틀이라면, object는 실제로 빵틀로 찍어낸 빵이라고 비유 가능\n",
    "\n",
    "#### __init__(self)\n",
    " + 생성자, 클래스 인스턴스가 생성될 때 호출됨\n",
    " + self인자는 항상 첫번째에 오며 자기 자신을 가리킴\n",
    " + 이름이 꼭 self일 필요는 없지만, 관례적으로 self로 사용\n",
    " \n",
    " + 생성자에서는 해당 클래스가 다루는 데이터를 정의\n",
    "   - 이 데이터를 멤버 변수(member variable) 또는 속성(attribute)라고 함\n",
    "   \n",
    "#### **mehtod 정의**\n",
    " + 멤버함수라고도 하며, 해당 클래스의 object에서만 호출가능\n",
    " + 메쏘드는 객체 레벨에서 호출되며, 해당 객체의 속성에 대한 연산을 행함\n",
    " + {obj}.{method}() 형태로 호출됨\n",
    "\n",
    "#### **method override**\n",
    " - 부모 클래스의 method를 재정의(override)\n",
    " - 하위 클래스(자식 클래스) 의 인스턴스로 호출시, 재정의된 메소드가 호출됨\n",
    "\n",
    "#### super \n",
    " - 하위클래스(자식 클래스)에서 부모클래스의 method를 호출할 때 사용"
   ]
  },
  {
   "cell_type": "code",
   "execution_count": 1,
   "metadata": {},
   "outputs": [],
   "source": [
    "class Person:\n",
    "    def __init__(self, name, age):\n",
    "        self.name = name\n",
    "        self.age = age\n",
    "    def eat(self, food):\n",
    "        print('{}은 {}를 먹습니다.'.format(self.name, food))\n",
    "        \n",
    "    def sleep(self, food):\n",
    "        print('{}은 {}동안 잡니다.'.format(self.name, food))\n",
    "    \n",
    "    def work(self, food):\n",
    "        print('{}은 {}동안 일합니다.'.format(self.name, food))\n",
    "\n",
    "class Student(Person):\n",
    "    def __init__(self, name, age):\n",
    "        self.name = name\n",
    "        self.age = age\n",
    "        \n",
    "    def work(self, food):\n",
    "        super().work(food) # \n",
    "        print('{}은 {}동안 공부합니다.'.format({obj}.{method}() 형태로 호출됨\n",
    "method override\n",
    "부모 클래스의 method를 재정의(override)\n",
    "하위 클래스(자식 클래스) 의 인스턴스로 호출시, 재정의된 메소드가 호출됨\n",
    "super\n",
    "하위클래스(자식 클래스)에서 부모클래스의 method를 호출할 때 사용\n",
    "class Person:\n",
    "    def __init__(self, name, age):\n",
    "        self.name = name\n",
    "        self.age = age\n",
    "    def eat(self, food):\n",
    "        print('{}은 {}를 먹습니다.'.format(self.name, food))\n",
    "        \n",
    "    def sleep(self, food):\n",
    "        print('{}은 {}동안 잡니다.'.format(self.name, food))\n",
    "    \n",
    "    def work(self, food):\n",
    "        print('{}은 {}동안 일합니다.'.format(self.name, food))\n",
    "​\n",
    "class Student(Person):\n",
    "    def __init__(self, name, age):\n",
    "        self.name = name\n",
    "        self.age = age\n",
    "        \n",
    "    def work(self, food):\n",
    "        super().work(food) # \n",
    "        print('{}은 {}동안 공부합니다.'.format(self.name, food))\n",
    "bob = Student('bob', 20)\n",
    "# bob.eat('ham')\n",
    "# bob.sleep(30)\n",
    "bob.work(30)\n",
    "bob은 30동안 일합니다.\n",
    "bobself.name, food))"
   ]
  },
  {
   "cell_type": "code",
   "execution_count": 2,
   "metadata": {},
   "outputs": [
    {
     "name": "stdout",
     "output_type": "stream",
     "text": [
      "bob은 30동안 일합니다.\n",
      "bob은 30동안 공부합니다.\n"
     ]
    }
   ],
   "source": [
    "bob = Student('bob', 20)\n",
    "# bob.eat('ham')\n",
    "# bob.sleep(30)\n",
    "bob.work(30)"
   ]
  },
  {
   "cell_type": "markdown",
   "metadata": {},
   "source": [
    "#### **special method**\n",
    " - __로 시작 __로 끝나는 특수 함수\n",
    " - 해당 메쏘드들을 구현하면, 커스텀 객체에 여러가지 파이썬 내장 함수나 연산자를 적용 가능\n",
    " - 오버라이딩 가능한 함수 목록은 아래 링크에서 참조 \n",
    "   - https://docs.python.org/3/reference/datamodel.html"
   ]
  },
  {
   "cell_type": "code",
   "execution_count": 32,
   "metadata": {},
   "outputs": [],
   "source": [
    "class Point:\n",
    "    def __init__(self, x, y):\n",
    "        self.x = x\n",
    "        self.y = y\n",
    "    def __add__(self, pt):\n",
    "        new_x = self.x + pt.x\n",
    "        new_y = self.y + pt.y\n",
    "        return Point(new_x, new_y)\n",
    "    \n",
    "    def __mul__(self, pt):\n",
    "        new_x = self.x * pt.x\n",
    "        new_y = self.y * pt.y\n",
    "        return Point(self.x * pt.x, self.y * pt.y)\n",
    "    \n",
    "    def __getitem__(self, index):\n",
    "        if index  == 0:\n",
    "            return self.x\n",
    "        elif index == 1:\n",
    "            return self.y\n",
    "        else:\n",
    "            pass\n",
    "        \n",
    "    \n",
    "    def __len__(self):\n",
    "        return self.x ** 2 + self.y**2\n",
    "    \n",
    "    def __str__(self):\n",
    "        return f'({self.x}, {self.y})'"
   ]
  },
  {
   "cell_type": "code",
   "execution_count": 33,
   "metadata": {},
   "outputs": [
    {
     "name": "stdout",
     "output_type": "stream",
     "text": [
      "337\n",
      "16\n"
     ]
    }
   ],
   "source": [
    "p1 = Point(3,4)\n",
    "p2 = Point(3,4)\n",
    "p3 = p1 * p2\n",
    "print(len(p3))\n",
    "print(p3[1])# getitem"
   ]
  },
  {
   "cell_type": "markdown",
   "metadata": {},
   "source": [
    "## Graph"
   ]
  },
  {
   "cell_type": "markdown",
   "metadata": {},
   "source": [
    "- 그래프를 그릴 때 표시 되는 색이나 마커 패턴을 바꾸는 것 확인\n",
    "    - 색상: b(파란색), g(초록색), r(빨간색), c(청록색), y(노란색), k(검은색), w(흰색)\n",
    "    - 마커: o(원), v(역삼각형), ^(삼각형), s(네모), +(플러스), .(점)  \n",
    "> 같이 표현하는 방법  'b--' 와 같은 방법 이제야 알았다\n",
    "\n",
    "```python\n",
    "plt.plot(x, y,'b--') # blue의 색에 -- 타입의 선!\n",
    "``` "
   ]
  },
  {
   "cell_type": "code",
   "execution_count": 3,
   "metadata": {},
   "outputs": [],
   "source": [
    "import matplotlib.pyplot as plt\n",
    "import numpy as np"
   ]
  },
  {
   "cell_type": "code",
   "execution_count": 11,
   "metadata": {},
   "outputs": [
    {
     "data": {
      "image/png": "[encoded data removed]",
      "text/plain": [
       "<Figure size 288x144 with 1 Axes>"
      ]
     },
     "metadata": {
      "needs_background": "light"
     },
     "output_type": "display_data"
    }
   ],
   "source": [
    "plt.figure(figsize = (4,2))\n",
    "x = np.arange(30)\n",
    "y = np.arange(30) + 3 * np.random.randn(30)\n",
    "plt.plot(x, y,'b--')\n",
    "plt.show()"
   ]
  },
  {
   "cell_type": "markdown",
   "metadata": {},
   "source": [
    "> subplot 할때 plt.subplot(223) == plt.subplot(2,2,3)"
   ]
  },
  {
   "cell_type": "code",
   "execution_count": 13,
   "metadata": {},
   "outputs": [
    {
     "data": {
      "image/png": "[encoded data removed]",
      "text/plain": [
       "<Figure size 360x288 with 3 Axes>"
      ]
     },
     "metadata": {
      "needs_background": "light"
     },
     "output_type": "display_data"
    }
   ],
   "source": [
    "plt.figure(figsize=(5, 4))\n",
    "plt.subplot(2, 2, 1)\n",
    "plt.plot(x, y, 'g--')\n",
    "plt.subplot(2, 2, 2)\n",
    "plt.plot(x, y, 'k.')\n",
    "plt.subplot(223)\n",
    "plt.plot(x, y, 'b.')\n",
    "plt.show()"
   ]
  }
 ],
 "metadata": {
  "kernelspec": {
   "display_name": "Python 3",
   "language": "python",
   "name": "python3"
  },
  "language_info": {
   "codemirror_mode": {
    "name": "ipython",
    "version": 3
   },
   "file_extension": ".py",
   "mimetype": "text/x-python",
   "name": "python",
   "nbconvert_exporter": "python",
   "pygments_lexer": "ipython3",
   "version": "3.7.3"
  }
 },
 "nbformat": 4,
 "nbformat_minor": 4
}
